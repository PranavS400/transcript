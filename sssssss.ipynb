{
 "cells": [
  {
   "cell_type": "code",
   "execution_count": 1,
   "id": "912e4473",
   "metadata": {},
   "outputs": [],
   "source": [
    "!pip install -q transformers"
   ]
  },
  {
   "cell_type": "code",
   "execution_count": 27,
   "id": "815a340b",
   "metadata": {},
   "outputs": [
    {
     "name": "stdout",
     "output_type": "stream",
     "text": [
      "Requirement already satisfied: tensorflow in c:\\users\\sri nidhi\\anaconda3\\lib\\site-packages (2.9.1)\n",
      "Requirement already satisfied: typing-extensions>=3.6.6 in c:\\users\\sri nidhi\\anaconda3\\lib\\site-packages (from tensorflow) (4.1.1)\n",
      "Requirement already satisfied: keras<2.10.0,>=2.9.0rc0 in c:\\users\\sri nidhi\\anaconda3\\lib\\site-packages (from tensorflow) (2.9.0)\n",
      "Requirement already satisfied: opt-einsum>=2.3.2 in c:\\users\\sri nidhi\\anaconda3\\lib\\site-packages (from tensorflow) (3.3.0)\n",
      "Requirement already satisfied: six>=1.12.0 in c:\\users\\sri nidhi\\anaconda3\\lib\\site-packages (from tensorflow) (1.16.0)\n",
      "Requirement already satisfied: packaging in c:\\users\\sri nidhi\\anaconda3\\lib\\site-packages (from tensorflow) (21.3)\n",
      "Requirement already satisfied: setuptools in c:\\users\\sri nidhi\\anaconda3\\lib\\site-packages (from tensorflow) (61.2.0)\n",
      "Requirement already satisfied: grpcio<2.0,>=1.24.3 in c:\\users\\sri nidhi\\anaconda3\\lib\\site-packages (from tensorflow) (1.42.0)\n",
      "Requirement already satisfied: absl-py>=1.0.0 in c:\\users\\sri nidhi\\anaconda3\\lib\\site-packages (from tensorflow) (1.2.0)\n",
      "Requirement already satisfied: tensorboard<2.10,>=2.9 in c:\\users\\sri nidhi\\anaconda3\\lib\\site-packages (from tensorflow) (2.9.1)\n",
      "Requirement already satisfied: numpy>=1.20 in c:\\users\\sri nidhi\\anaconda3\\lib\\site-packages (from tensorflow) (1.21.5)\n",
      "Requirement already satisfied: wrapt>=1.11.0 in c:\\users\\sri nidhi\\anaconda3\\lib\\site-packages (from tensorflow) (1.12.1)\n",
      "Requirement already satisfied: flatbuffers<2,>=1.12 in c:\\users\\sri nidhi\\anaconda3\\lib\\site-packages (from tensorflow) (1.12)\n",
      "Requirement already satisfied: tensorflow-io-gcs-filesystem>=0.23.1 in c:\\users\\sri nidhi\\anaconda3\\lib\\site-packages (from tensorflow) (0.26.0)\n",
      "Requirement already satisfied: protobuf<3.20,>=3.9.2 in c:\\users\\sri nidhi\\anaconda3\\lib\\site-packages (from tensorflow) (3.19.1)\n",
      "Requirement already satisfied: h5py>=2.9.0 in c:\\users\\sri nidhi\\anaconda3\\lib\\site-packages (from tensorflow) (3.6.0)\n",
      "Requirement already satisfied: google-pasta>=0.1.1 in c:\\users\\sri nidhi\\anaconda3\\lib\\site-packages (from tensorflow) (0.2.0)\n",
      "Requirement already satisfied: gast<=0.4.0,>=0.2.1 in c:\\users\\sri nidhi\\anaconda3\\lib\\site-packages (from tensorflow) (0.4.0)\n",
      "Requirement already satisfied: termcolor>=1.1.0 in c:\\users\\sri nidhi\\anaconda3\\lib\\site-packages (from tensorflow) (1.1.0)\n",
      "Requirement already satisfied: libclang>=13.0.0 in c:\\users\\sri nidhi\\anaconda3\\lib\\site-packages (from tensorflow) (14.0.6)\n",
      "Requirement already satisfied: astunparse>=1.6.0 in c:\\users\\sri nidhi\\anaconda3\\lib\\site-packages (from tensorflow) (1.6.3)\n",
      "Requirement already satisfied: tensorflow-estimator<2.10.0,>=2.9.0rc0 in c:\\users\\sri nidhi\\anaconda3\\lib\\site-packages (from tensorflow) (2.9.0)\n",
      "Requirement already satisfied: keras-preprocessing>=1.1.1 in c:\\users\\sri nidhi\\anaconda3\\lib\\site-packages (from tensorflow) (1.1.2)\n",
      "Requirement already satisfied: wheel<1.0,>=0.23.0 in c:\\users\\sri nidhi\\anaconda3\\lib\\site-packages (from astunparse>=1.6.0->tensorflow) (0.37.1)\n",
      "Requirement already satisfied: werkzeug>=1.0.1 in c:\\users\\sri nidhi\\anaconda3\\lib\\site-packages (from tensorboard<2.10,>=2.9->tensorflow) (2.0.3)\n",
      "Requirement already satisfied: google-auth-oauthlib<0.5,>=0.4.1 in c:\\users\\sri nidhi\\anaconda3\\lib\\site-packages (from tensorboard<2.10,>=2.9->tensorflow) (0.4.6)\n",
      "Requirement already satisfied: requests<3,>=2.21.0 in c:\\users\\sri nidhi\\anaconda3\\lib\\site-packages (from tensorboard<2.10,>=2.9->tensorflow) (2.27.1)\n",
      "Requirement already satisfied: tensorboard-data-server<0.7.0,>=0.6.0 in c:\\users\\sri nidhi\\anaconda3\\lib\\site-packages (from tensorboard<2.10,>=2.9->tensorflow) (0.6.1)\n",
      "Requirement already satisfied: tensorboard-plugin-wit>=1.6.0 in c:\\users\\sri nidhi\\anaconda3\\lib\\site-packages (from tensorboard<2.10,>=2.9->tensorflow) (1.8.1)\n",
      "Requirement already satisfied: markdown>=2.6.8 in c:\\users\\sri nidhi\\anaconda3\\lib\\site-packages (from tensorboard<2.10,>=2.9->tensorflow) (3.3.4)\n",
      "Requirement already satisfied: google-auth<3,>=1.6.3 in c:\\users\\sri nidhi\\anaconda3\\lib\\site-packages (from tensorboard<2.10,>=2.9->tensorflow) (1.33.0)\n",
      "Requirement already satisfied: cachetools<5.0,>=2.0.0 in c:\\users\\sri nidhi\\anaconda3\\lib\\site-packages (from google-auth<3,>=1.6.3->tensorboard<2.10,>=2.9->tensorflow) (4.2.2)\n",
      "Requirement already satisfied: pyasn1-modules>=0.2.1 in c:\\users\\sri nidhi\\anaconda3\\lib\\site-packages (from google-auth<3,>=1.6.3->tensorboard<2.10,>=2.9->tensorflow) (0.2.8)\n",
      "Requirement already satisfied: rsa<5,>=3.1.4 in c:\\users\\sri nidhi\\anaconda3\\lib\\site-packages (from google-auth<3,>=1.6.3->tensorboard<2.10,>=2.9->tensorflow) (4.7.2)\n",
      "Requirement already satisfied: requests-oauthlib>=0.7.0 in c:\\users\\sri nidhi\\anaconda3\\lib\\site-packages (from google-auth-oauthlib<0.5,>=0.4.1->tensorboard<2.10,>=2.9->tensorflow) (1.3.1)\n",
      "Requirement already satisfied: pyasn1<0.5.0,>=0.4.6 in c:\\users\\sri nidhi\\anaconda3\\lib\\site-packages (from pyasn1-modules>=0.2.1->google-auth<3,>=1.6.3->tensorboard<2.10,>=2.9->tensorflow) (0.4.8)\n",
      "Requirement already satisfied: certifi>=2017.4.17 in c:\\users\\sri nidhi\\anaconda3\\lib\\site-packages (from requests<3,>=2.21.0->tensorboard<2.10,>=2.9->tensorflow) (2021.10.8)\n",
      "Requirement already satisfied: urllib3<1.27,>=1.21.1 in c:\\users\\sri nidhi\\anaconda3\\lib\\site-packages (from requests<3,>=2.21.0->tensorboard<2.10,>=2.9->tensorflow) (1.26.9)\n",
      "Requirement already satisfied: idna<4,>=2.5 in c:\\users\\sri nidhi\\anaconda3\\lib\\site-packages (from requests<3,>=2.21.0->tensorboard<2.10,>=2.9->tensorflow) (3.3)\n",
      "Requirement already satisfied: charset-normalizer~=2.0.0 in c:\\users\\sri nidhi\\anaconda3\\lib\\site-packages (from requests<3,>=2.21.0->tensorboard<2.10,>=2.9->tensorflow) (2.0.4)\n",
      "Requirement already satisfied: oauthlib>=3.0.0 in c:\\users\\sri nidhi\\anaconda3\\lib\\site-packages (from requests-oauthlib>=0.7.0->google-auth-oauthlib<0.5,>=0.4.1->tensorboard<2.10,>=2.9->tensorflow) (3.2.0)\n",
      "Requirement already satisfied: pyparsing!=3.0.5,>=2.0.2 in c:\\users\\sri nidhi\\anaconda3\\lib\\site-packages (from packaging->tensorflow) (3.0.4)\n",
      "Note: you may need to restart the kernel to use updated packages.\n"
     ]
    }
   ],
   "source": [
    "pip install tensorflow"
   ]
  },
  {
   "cell_type": "code",
   "execution_count": 2,
   "id": "78544b65",
   "metadata": {},
   "outputs": [],
   "source": [
    "!pip install -q youtube_transcript_api"
   ]
  },
  {
   "cell_type": "code",
   "execution_count": 3,
   "id": "dc485dc8",
   "metadata": {},
   "outputs": [],
   "source": [
    "from transformers import pipeline\n",
    "from youtube_transcript_api import YouTubeTranscriptApi"
   ]
  },
  {
   "cell_type": "code",
   "execution_count": 4,
   "id": "243cb245",
   "metadata": {},
   "outputs": [],
   "source": [
    "youtube_video = \"https://www.youtube.com/watch?v=S17-kYaDZX8&ab_channel=SaregamaTelugu\""
   ]
  },
  {
   "cell_type": "code",
   "execution_count": 5,
   "id": "04e7f6d9",
   "metadata": {},
   "outputs": [],
   "source": [
    "video_id = youtube_video.split(\"=\")[1]"
   ]
  },
  {
   "cell_type": "code",
   "execution_count": 6,
   "id": "8c944158",
   "metadata": {},
   "outputs": [
    {
     "data": {
      "text/plain": [
       "'S17-kYaDZX8&ab_channel'"
      ]
     },
     "execution_count": 6,
     "metadata": {},
     "output_type": "execute_result"
    }
   ],
   "source": [
    "video_id"
   ]
  },
  {
   "cell_type": "code",
   "execution_count": 7,
   "id": "6b2056b9",
   "metadata": {},
   "outputs": [
    {
     "data": {
      "text/html": [
       "\n",
       "        <iframe\n",
       "            width=\"400\"\n",
       "            height=\"300\"\n",
       "            src=\"https://www.youtube.com/embed/S17-kYaDZX8&ab_channel\"\n",
       "            frameborder=\"0\"\n",
       "            allowfullscreen\n",
       "            \n",
       "        ></iframe>\n",
       "        "
      ],
      "text/plain": [
       "<IPython.lib.display.YouTubeVideo at 0x23ce86bc430>"
      ]
     },
     "execution_count": 7,
     "metadata": {},
     "output_type": "execute_result"
    }
   ],
   "source": [
    "from IPython.display import YouTubeVideo\n",
    "YouTubeVideo(video_id)"
   ]
  },
  {
   "cell_type": "code",
   "execution_count": 13,
   "id": "b7e656e7",
   "metadata": {},
   "outputs": [],
   "source": [
    "YouTubeTranscriptApi.get_transcript(video_id)\n",
    "transcript = YouTubeTranscriptApi.get_transcript(video_id)"
   ]
  },
  {
   "cell_type": "code",
   "execution_count": 14,
   "id": "2b5a0334",
   "metadata": {},
   "outputs": [
    {
     "data": {
      "text/plain": [
       "[{'text': 'You come to play with her dress',\n",
       "  'start': 34.826,\n",
       "  'duration': 1.889},\n",
       " {'text': 'O heroic revolutionary star', 'start': 37.948, 'duration': 2.456},\n",
       " {'text': 'When the beautiful Leela comes to you',\n",
       "  'start': 40.94,\n",
       "  'duration': 3.195},\n",
       " {'text': 'Would you remain quiet!', 'start': 44.225, 'duration': 2.934},\n",
       " {'text': 'Very tasty lemon rice', 'start': 59.622, 'duration': 2.075},\n",
       " {'text': 'Prepared with a lot of love', 'start': 62.8, 'duration': 2.303},\n",
       " {'text': 'Will you take the story till the end',\n",
       "  'start': 65.8,\n",
       "  'duration': 3.033},\n",
       " {'text': 'Or submerge it midway?', 'start': 68.923, 'duration': 2.755},\n",
       " {'text': 'That side is belongs to one culture',\n",
       "  'start': 71.897,\n",
       "  'duration': 4.329},\n",
       " {'text': 'This side is used to quite another!',\n",
       "  'start': 76.833,\n",
       "  'duration': 5.238},\n",
       " {'text': 'This alliance formed magically',\n",
       "  'start': 83.076,\n",
       "  'duration': 5.489},\n",
       " {'text': 'It mean Sunadaram will\\nget married afterall?',\n",
       "  'start': 90.584,\n",
       "  'duration': 3.113},\n",
       " {'text': \"And get thrilled by\\nthe spot on the girl's cheek\",\n",
       "  'start': 93.787,\n",
       "  'duration': 3.008},\n",
       " {'text': 'Will there be a shower\\nof blessings on all sides?',\n",
       "  'start': 96.885,\n",
       "  'duration': 2.836},\n",
       " {'text': 'Will the church resonate\\nwith wedding bells?',\n",
       "  'start': 99.932,\n",
       "  'duration': 3.235},\n",
       " {'text': \"Let's sing and dance\\nand enjoy this moment\",\n",
       "  'start': 103.257,\n",
       "  'duration': 3.007},\n",
       " {'text': \"Let's sing and dance and make merry\",\n",
       "  'start': 106.354,\n",
       "  'duration': 2.796},\n",
       " {'text': \"Let's sing and dance\\nand enjoy this moment\",\n",
       "  'start': 109.24,\n",
       "  'duration': 3.193},\n",
       " {'text': 'Fantastic, what a beauty!', 'start': 113.325, 'duration': 2.181},\n",
       " {'text': \"Let's sing and dance\\nand enjoy this moment\",\n",
       "  'start': 115.596,\n",
       "  'duration': 2.797},\n",
       " {'text': \"Let's sing and dance and make merry\",\n",
       "  'start': 118.483,\n",
       "  'duration': 3.089},\n",
       " {'text': \"Let's sing and dance\\nand enjoy this moment\",\n",
       "  'start': 121.662,\n",
       "  'duration': 3.243},\n",
       " {'text': 'Fantastic, what a beauty!', 'start': 125.676, 'duration': 2.311},\n",
       " {'text': 'The hour of marriage has arrived',\n",
       "  'start': 154.517,\n",
       "  'duration': 3.065},\n",
       " {'text': 'Everyone is elated', 'start': 157.834, 'duration': 2.781},\n",
       " {'text': 'Something terrible happened suddenly!',\n",
       "  'start': 160.705,\n",
       "  'duration': 3.024},\n",
       " {'text': 'The wedding rings and nuptials vanished!',\n",
       "  'start': 163.819,\n",
       "  'duration': 3.574},\n",
       " {'text': 'Alas, what a tragedy!', 'start': 167.483, 'duration': 1.67},\n",
       " {'text': 'Does it mean...', 'start': 169.874, 'duration': 1.192},\n",
       " {'text': 'Does it mean...', 'start': 171.269, 'duration': 1.2},\n",
       " {'text': \"Is this Sundaram's fate?\", 'start': 172.696, 'duration': 3.081},\n",
       " {'text': 'Will his marriage ever be in doubt?',\n",
       "  'start': 175.867,\n",
       "  'duration': 2.991},\n",
       " {'text': 'Will he eat like\\na bachelor all his life?',\n",
       "  'start': 178.948,\n",
       "  'duration': 3.023},\n",
       " {'text': 'Is he destined never to\\ncatch the signal of marriage?',\n",
       "  'start': 182.061,\n",
       "  'duration': 3.235},\n",
       " {'text': \"Let's sing and dance\\nand enjoy this moment\",\n",
       "  'start': 186.764,\n",
       "  'duration': 5.758},\n",
       " {'text': 'Hey, what is all this?', 'start': 192.612, 'duration': 2.569},\n",
       " {'text': 'This is just a promo song!', 'start': 195.749, 'duration': 1.168},\n",
       " {'text': 'Agree, bro! But the marriage...',\n",
       "  'start': 197.007,\n",
       "  'duration': 1.653},\n",
       " {'text': 'So what?!', 'start': 198.75, 'duration': 1.069},\n",
       " {'text': \"Whether or not Sundaram gets married,\\neither way it's a celebration!\",\n",
       "  'start': 199.909,\n",
       "  'duration': 4.061},\n",
       " {'text': \"Don't you believe?\", 'start': 204.465, 'duration': 1.135},\n",
       " {'text': 'If you want,\\ncome to the theatre and check it out.',\n",
       "  'start': 205.883,\n",
       "  'duration': 1.265},\n",
       " {'text': 'Leela, tell them yourself.', 'start': 207.525, 'duration': 1.991},\n",
       " {'text': 'Hello, musicians! Play on!', 'start': 209.808, 'duration': 2.976},\n",
       " {'text': \"Let's sing and dance\\nand enjoy this moment\",\n",
       "  'start': 228.578,\n",
       "  'duration': 3.114},\n",
       " {'text': \"Let's sing and dance and make merry\",\n",
       "  'start': 231.782,\n",
       "  'duration': 2.998},\n",
       " {'text': \"Let's sing and dance\\nand enjoy this moment\",\n",
       "  'start': 234.87,\n",
       "  'duration': 3.04},\n",
       " {'text': 'Fantastic, what a beauty!', 'start': 238.956, 'duration': 2.255},\n",
       " {'text': \"Let's sing and dance\\nand enjoy this moment\",\n",
       "  'start': 241.301,\n",
       "  'duration': 2.837},\n",
       " {'text': \"Let's sing and dance and make merry\",\n",
       "  'start': 244.228,\n",
       "  'duration': 2.747},\n",
       " {'text': \"Let's sing and dance\\nand enjoy this moment\",\n",
       "  'start': 247.065,\n",
       "  'duration': 3.453},\n",
       " {'text': 'Fantastic, what a beauty!', 'start': 251.37, 'duration': 2.246},\n",
       " {'text': \"Let's sing and dance\", 'start': 256.494, 'duration': 2.635},\n",
       " {'text': \"Let's sing and dance\", 'start': 259.486, 'duration': 2.724},\n",
       " {'text': 'Fantastic, what a beauty!', 'start': 263.67, 'duration': 2.238},\n",
       " {'text': 'So, it means Sundaram...', 'start': 266.556, 'duration': 1.711},\n",
       " {'text': 'So be it!', 'start': 271.316, 'duration': 1.119}]"
      ]
     },
     "execution_count": 14,
     "metadata": {},
     "output_type": "execute_result"
    }
   ],
   "source": [
    "transcript"
   ]
  },
  {
   "cell_type": "code",
   "execution_count": 19,
   "id": "f084d8ce",
   "metadata": {},
   "outputs": [
    {
     "name": "stdout",
     "output_type": "stream",
     "text": [
      "1889\n"
     ]
    }
   ],
   "source": [
    "result = \"\"\n",
    "for i in transcript:\n",
    "    result += ' ' + i['text']\n",
    "#print(result)\n",
    "print(len(result))"
   ]
  },
  {
   "cell_type": "code",
   "execution_count": 20,
   "id": "456bd053",
   "metadata": {},
   "outputs": [
    {
     "name": "stderr",
     "output_type": "stream",
     "text": [
      "No model was supplied, defaulted to t5-small and revision d769bba (https://huggingface.co/t5-small).\n",
      "Using a pipeline without specifying a model name and revision in production is not recommended.\n",
      "All model checkpoint layers were used when initializing TFT5ForConditionalGeneration.\n",
      "\n",
      "All the layers of TFT5ForConditionalGeneration were initialized from the model checkpoint at t5-small.\n",
      "If your task is similar to the task the model of the checkpoint was trained on, you can already use TFT5ForConditionalGeneration for predictions without further training.\n"
     ]
    }
   ],
   "source": [
    "summarizer = pipeline('summarization')"
   ]
  },
  {
   "cell_type": "code",
   "execution_count": 21,
   "id": "edc7be13",
   "metadata": {},
   "outputs": [
    {
     "name": "stdout",
     "output_type": "stream",
     "text": [
      "input text \n",
      " You come to play with her dress O heroic revolutionary star When the beautiful Leela comes to you Would you remain quiet! Very tasty lemon rice Prepared with a lot of love Will you take the story till the end Or submerge it midway? That side is belongs to one culture This side is used to quite another! This alliance formed magically It mean Sunadaram will\n",
      "get married afterall? And get thrilled by\n",
      "the spot on the girl's cheek Will there be a shower\n",
      "of blessings on all sides? Will the church resonate\n",
      "with wedding bells? Let's sing and dance\n",
      "and enjoy this moment Let's sing and dance and make merry Let's sing and dance\n",
      "and enjoy this moment Fantastic, what a beauty! Let's sing and dance\n",
      "and enjoy this moment Let's sing and dance and make merry Let's sing and dance\n",
      "and enjoy this moment Fantastic, what a beauty! The hour of marriage has arrived Everyone is elated Something terrible happened suddenly! The wedding rings and nuptials vanished! Alas, what a tragedy! Does it mean... Does it me\n",
      "Summarized text\n",
      "this alliance formed magically It mean Sunadaram will get married afterall? and get thrilled by the spot on the girl's cheek Will there be a shower of blessings on all sides? Will the church resonate with wedding bells?\n",
      "input text \n",
      "an... Is this Sundaram's fate? Will his marriage ever be in doubt? Will he eat like\n",
      "a bachelor all his life? Is he destined never to\n",
      "catch the signal of marriage? Let's sing and dance\n",
      "and enjoy this moment Hey, what is all this? This is just a promo song! Agree, bro! But the marriage... So what?! Whether or not Sundaram gets married,\n",
      "either way it's a celebration! Don't you believe? If you want,\n",
      "come to the theatre and check it out. Leela, tell them yourself. Hello, musicians! Play on! Let's sing and dance\n",
      "and enjoy this moment Let's sing and dance and make merry Let's sing and dance\n",
      "and enjoy this moment Fantastic, what a beauty! Let's sing and dance\n",
      "and enjoy this moment Let's sing and dance and make merry Let's sing and dance\n",
      "and enjoy this moment Fantastic, what a beauty! Let's sing and dance Let's sing and dance Fantastic, what a beauty! So, it means Sundaram... So be it!\n",
      "Summarized text\n",
      "Whether or not sundaram gets married, either way it's a celebration! Don't you believe? Come to the theatre and check it out. Leela, tell them yourself. Hello, musicians! Play on! Let's sing and dance and enjoy this moment let's make merry Let'S sing and dancing and enjoy Fantastic, what a beauty!\n",
      "[\"this alliance formed magically It mean Sunadaram will get married afterall? and get thrilled by the spot on the girl's cheek Will there be a shower of blessings on all sides? Will the church resonate with wedding bells?\", \"Whether or not sundaram gets married, either way it's a celebration! Don't you believe? Come to the theatre and check it out. Leela, tell them yourself. Hello, musicians! Play on! Let's sing and dance and enjoy this moment let's make merry Let'S sing and dancing and enjoy Fantastic, what a beauty!\"]\n"
     ]
    }
   ],
   "source": [
    "num_iters = int(len(result)/1000)\n",
    "summarized_text = []\n",
    "for i in range(0, num_iters + 1):\n",
    "  start = 0\n",
    "  start = i * 1000\n",
    "  end = (i + 1) * 1000\n",
    "  print(\"input text \\n\" + result[start:end])\n",
    "  out = summarizer(result[start:end])\n",
    "  out = out[0]\n",
    "  out = out['summary_text']\n",
    "  print(\"Summarized text\\n\"+out)\n",
    "  summarized_text.append(out)\n",
    "\n",
    "print(summarized_text)"
   ]
  },
  {
   "cell_type": "code",
   "execution_count": 15,
   "id": "027efb53",
   "metadata": {},
   "outputs": [
    {
     "data": {
      "text/plain": [
       "2"
      ]
     },
     "execution_count": 15,
     "metadata": {},
     "output_type": "execute_result"
    }
   ],
   "source": [
    "len(str(summarized_text))"
   ]
  },
  {
   "cell_type": "code",
   "execution_count": null,
   "id": "b93871a6",
   "metadata": {},
   "outputs": [],
   "source": []
  }
 ],
 "metadata": {
  "kernelspec": {
   "display_name": "Python 3 (ipykernel)",
   "language": "python",
   "name": "python3"
  },
  "language_info": {
   "codemirror_mode": {
    "name": "ipython",
    "version": 3
   },
   "file_extension": ".py",
   "mimetype": "text/x-python",
   "name": "python",
   "nbconvert_exporter": "python",
   "pygments_lexer": "ipython3",
   "version": "3.9.12"
  }
 },
 "nbformat": 4,
 "nbformat_minor": 5
}
